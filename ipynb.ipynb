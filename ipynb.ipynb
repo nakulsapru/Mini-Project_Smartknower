{
 "cells": [
  {
   "cell_type": "code",
   "execution_count": 1,
   "metadata": {
    "colab": {
     "base_uri": "https://localhost:8080/",
     "height": 104
    },
    "colab_type": "code",
    "executionInfo": {
     "elapsed": 6102,
     "status": "ok",
     "timestamp": 1600440575571,
     "user": {
      "displayName": "Prajwal Bhat",
      "photoUrl": "https://lh3.googleusercontent.com/a-/AOh14Git8KFiINGdQ1nW0gJq9MYK40HXzju4hhonJ2XTKQ=s64",
      "userId": "14656634530721889759"
     },
     "user_tz": -330
    },
    "id": "m5ZJnMM3IC-s",
    "outputId": "2a4a3431-a26d-4b63-8fe2-ebe50b085d9f"
   },
   "outputs": [
    {
     "name": "stdout",
     "output_type": "stream",
     "text": [
      "Collecting bing-image-downloader\n",
      "  Downloading https://files.pythonhosted.org/packages/0d/bf/537a61030b84ae4cd5022d5c7b014fd9bc3ce7c02358919153a6658a61d3/bing_image_downloader-1.0.4-py3-none-any.whl\n",
      "Installing collected packages: bing-image-downloader\n",
      "Successfully installed bing-image-downloader-1.0.4\n"
     ]
    }
   ],
   "source": [
    "!pip install bing-image-downloader"
   ]
  },
  {
   "cell_type": "code",
   "execution_count": 2,
   "metadata": {
    "colab": {
     "base_uri": "https://localhost:8080/",
     "height": 34
    },
    "colab_type": "code",
    "executionInfo": {
     "elapsed": 2794,
     "status": "ok",
     "timestamp": 1600440576281,
     "user": {
      "displayName": "Prajwal Bhat",
      "photoUrl": "https://lh3.googleusercontent.com/a-/AOh14Git8KFiINGdQ1nW0gJq9MYK40HXzju4hhonJ2XTKQ=s64",
      "userId": "14656634530721889759"
     },
     "user_tz": -330
    },
    "id": "o1QqCIqkQDdn",
    "outputId": "19c22fc3-c8e1-4dfb-e0d4-8a5084c03ba3"
   },
   "outputs": [
    {
     "name": "stdout",
     "output_type": "stream",
     "text": [
      "drive  sample_data\n"
     ]
    }
   ],
   "source": [
    "!ls"
   ]
  },
  {
   "cell_type": "code",
   "execution_count": 3,
   "metadata": {
    "colab": {
     "base_uri": "https://localhost:8080/",
     "height": 34
    },
    "colab_type": "code",
    "executionInfo": {
     "elapsed": 2835,
     "status": "ok",
     "timestamp": 1600440578847,
     "user": {
      "displayName": "Prajwal Bhat",
      "photoUrl": "https://lh3.googleusercontent.com/a-/AOh14Git8KFiINGdQ1nW0gJq9MYK40HXzju4hhonJ2XTKQ=s64",
      "userId": "14656634530721889759"
     },
     "user_tz": -330
    },
    "id": "O-3YG4vtQgPj",
    "outputId": "7a6bd955-300a-4dfd-cac0-067653c6eb05"
   },
   "outputs": [
    {
     "name": "stdout",
     "output_type": "stream",
     "text": [
      "/content/drive/My Drive/internship\n"
     ]
    }
   ],
   "source": [
    "cd /content/drive/My Drive/internship\n"
   ]
  },
  {
   "cell_type": "code",
   "execution_count": 3,
   "metadata": {
    "colab": {
     "base_uri": "https://localhost:8080/",
     "height": 34
    },
    "colab_type": "code",
    "executionInfo": {
     "elapsed": 1130,
     "status": "ok",
     "timestamp": 1600419952592,
     "user": {
      "displayName": "Prajwal Bhat",
      "photoUrl": "https://lh3.googleusercontent.com/a-/AOh14Git8KFiINGdQ1nW0gJq9MYK40HXzju4hhonJ2XTKQ=s64",
      "userId": "14656634530721889759"
     },
     "user_tz": -330
    },
    "id": "vvpqStyMQiBv",
    "outputId": "d44544cf-a53d-4c15-969f-e18d89c924f6"
   },
   "outputs": [
    {
     "name": "stdout",
     "output_type": "stream",
     "text": [
      "images\n"
     ]
    }
   ],
   "source": [
    "!ls"
   ]
  },
  {
   "cell_type": "code",
   "execution_count": 11,
   "metadata": {
    "colab": {
     "base_uri": "https://localhost:8080/",
     "height": 1000
    },
    "colab_type": "code",
    "executionInfo": {
     "elapsed": 15883,
     "status": "ok",
     "timestamp": 1600440747818,
     "user": {
      "displayName": "Prajwal Bhat",
      "photoUrl": "https://lh3.googleusercontent.com/a-/AOh14Git8KFiINGdQ1nW0gJq9MYK40HXzju4hhonJ2XTKQ=s64",
      "userId": "14656634530721889759"
     },
     "user_tz": -330
    },
    "id": "6bSIeEQ2RTJB",
    "outputId": "ec15b5cd-2cc2-42c0-ae13-0ab97ef73e94"
   },
   "outputs": [
    {
     "name": "stdout",
     "output_type": "stream",
     "text": [
      "\n",
      "\n",
      "[!!]Indexing page: 1\n",
      "\n",
      "[%] Indexed 10 Images on Page 1.\n",
      "\n",
      "===============================================\n",
      "\n",
      "[%] Downloading Image #1 from https://www.readersdigest.ca/wp-content/uploads/sites/14/2010/12/pepperoni-pizza.jpg\n",
      "[%] File Downloaded !\n",
      "\n",
      "[%] Downloading Image #2 from https://www.cookingclassy.com/wp-content/uploads/2012/12/chicken-alfredo-pizza.jpg\n",
      "[%] File Downloaded !\n",
      "\n",
      "[%] Downloading Image #3 from https://media.daysoftheyear.com/20171223133442/pepperoni-pizza-day.jpg\n",
      "[!] Issue getting: https://media.daysoftheyear.com/20171223133442/pepperoni-pizza-day.jpg\n",
      "[!] Error:: HTTP Error 403: Forbidden\n",
      "[%] Downloading Image #3 from https://weliketwocook.files.wordpress.com/2012/11/pizza2.jpg\n",
      "[%] File Downloaded !\n",
      "\n",
      "[%] Downloading Image #4 from https://www.vvsupremo.com/wp-content/uploads/2018/05/Pepperoni-Pizza-1.jpg\n",
      "[%] File Downloaded !\n",
      "\n",
      "[%] Downloading Image #5 from http://www.delonghi.com/Global/recipes/multifry/pizza_fresca.jpg\n",
      "[%] File Downloaded !\n",
      "\n",
      "[%] Downloading Image #6 from http://cdn.wallpapername.com/3840x2160/20180415/5ad2c51b940e2.jpg\n",
      "[%] File Downloaded !\n",
      "\n",
      "[%] Downloading Image #7 from http://cdn.shopify.com/s/files/1/0808/5563/products/061819_Cheese_Full_1200x1200.jpg?v=1560819711\n",
      "[%] File Downloaded !\n",
      "\n",
      "[%] Downloading Image #8 from https://sweetphi.com/wp-content/uploads/2014/01/Proscuetto-pizza.jpg\n",
      "[%] File Downloaded !\n",
      "\n",
      "[%] Downloading Image #9 from https://assets.tastecooking.com/wp-content/uploads/2017/11/0269_Gera_9780553496390_art_r1-e1510350772283.jpg\n",
      "[!] Issue getting: https://assets.tastecooking.com/wp-content/uploads/2017/11/0269_Gera_9780553496390_art_r1-e1510350772283.jpg\n",
      "[!] Error:: <urlopen error [SSL: CERTIFICATE_VERIFY_FAILED] certificate verify failed (_ssl.c:852)>\n",
      "\n",
      "\n",
      "[!!]Indexing page: 2\n",
      "\n",
      "[%] Indexed 35 Images on Page 2.\n",
      "\n",
      "===============================================\n",
      "\n",
      "[%] Downloading Image #9 from http://www.gannett-cdn.com/-mm-/3c038894d19f4baf91f63e457dfc1da1eb02b936/c=0-201-2160-1421&amp;r=x1803&amp;c=3200x1800/local/-/media/2015/01/12/USATODAY/USATODAY/635566745150462086-XXX-Pizza-Hut-gluten-free-pizza.jpg\n",
      "[!] Issue getting: http://www.gannett-cdn.com/-mm-/3c038894d19f4baf91f63e457dfc1da1eb02b936/c=0-201-2160-1421&amp;r=x1803&amp;c=3200x1800/local/-/media/2015/01/12/USATODAY/USATODAY/635566745150462086-XXX-Pizza-Hut-gluten-free-pizza.jpg\n",
      "[!] Error:: HTTP Error 403: Forbidden\n",
      "[%] Downloading Image #9 from https://i.ytimg.com/vi/CxZM0PM77Us/maxresdefault.jpg\n",
      "[%] File Downloaded !\n",
      "\n",
      "[%] Downloading Image #10 from https://upload.wikimedia.org/wikipedia/commons/b/b8/Thin_crust_Roman_style_pizza_on_table.jpg\n",
      "[%] File Downloaded !\n",
      "\n",
      "\n",
      "\n",
      "[%] Done. Downloaded 10 images.\n",
      "\n",
      "===============================================\n",
      "\n"
     ]
    }
   ],
   "source": [
    "from bing_image_downloader import downloader\n",
    "downloader.download(\"pizza\",limit =10,output_dir ='images')"
   ]
  },
  {
   "cell_type": "code",
   "execution_count": 5,
   "metadata": {
    "colab": {
     "base_uri": "https://localhost:8080/",
     "height": 240
    },
    "colab_type": "code",
    "executionInfo": {
     "elapsed": 16059,
     "status": "ok",
     "timestamp": 1600440606031,
     "user": {
      "displayName": "Prajwal Bhat",
      "photoUrl": "https://lh3.googleusercontent.com/a-/AOh14Git8KFiINGdQ1nW0gJq9MYK40HXzju4hhonJ2XTKQ=s64",
      "userId": "14656634530721889759"
     },
     "user_tz": -330
    },
    "id": "lal7Z4YwTLyO",
    "outputId": "64797e11-d1b3-4518-8d2d-b64c3355499c"
   },
   "outputs": [
    {
     "data": {
      "image/png": "[encoded data removed]",
      "text/plain": [
       "<Figure size 432x288 with 1 Axes>"
      ]
     },
     "metadata": {
      "needs_background": "light",
      "tags": []
     },
     "output_type": "display_data"
    }
   ],
   "source": [
    "path ='/content/drive/My Drive/internship/images/pizza/Image_1.jpg'\n",
    "import cv2\n",
    "import matplotlib.pyplot as plt\n",
    "\n",
    "i =cv2.imread(path)\n",
    "i =cv2.cvtColor(i,cv2.COLOR_BGR2RGB)\n",
    "plt.imshow(i)\n",
    "plt.show()"
   ]
  },
  {
   "cell_type": "code",
   "execution_count": 12,
   "metadata": {
    "colab": {
     "base_uri": "https://localhost:8080/",
     "height": 655
    },
    "colab_type": "code",
    "executionInfo": {
     "elapsed": 10945,
     "status": "ok",
     "timestamp": 1600440748533,
     "user": {
      "displayName": "Prajwal Bhat",
      "photoUrl": "https://lh3.googleusercontent.com/a-/AOh14Git8KFiINGdQ1nW0gJq9MYK40HXzju4hhonJ2XTKQ=s64",
      "userId": "14656634530721889759"
     },
     "user_tz": -330
    },
    "id": "ofBxrb9MTacH",
    "outputId": "3d48bff9-2ee3-4dd6-803d-0feb45532a1a"
   },
   "outputs": [
    {
     "name": "stdout",
     "output_type": "stream",
     "text": [
      "\n",
      "\n",
      "[!!]Indexing page: 1\n",
      "\n",
      "[%] Indexed 10 Images on Page 1.\n",
      "\n",
      "===============================================\n",
      "\n",
      "[%] Downloading Image #1 from https://i.ytimg.com/vi/R-ODcQMTB98/maxresdefault.jpg\n",
      "[%] File Downloaded !\n",
      "\n",
      "[%] Downloading Image #2 from https://i.ytimg.com/vi/UrPFxBg7Qbs/maxresdefault.jpg\n",
      "[%] File Downloaded !\n",
      "\n",
      "[%] Downloading Image #3 from https://i.ytimg.com/vi/nxNFmHXnY9U/maxresdefault.jpg\n",
      "[%] File Downloaded !\n",
      "\n",
      "[%] Downloading Image #4 from https://i.ytimg.com/vi/11DVhiwvLzk/maxresdefault.jpg\n",
      "[%] File Downloaded !\n",
      "\n",
      "[%] Downloading Image #5 from https://i.ytimg.com/vi/voPYbrRfg6g/maxresdefault.jpg\n",
      "[%] File Downloaded !\n",
      "\n",
      "[%] Downloading Image #6 from https://i.ytimg.com/vi/-yjwMLMyUzE/maxresdefault.jpg\n",
      "[%] File Downloaded !\n",
      "\n",
      "[%] Downloading Image #7 from https://i.ytimg.com/vi/wPo8pTi6kiw/maxresdefault.jpg\n",
      "[%] File Downloaded !\n",
      "\n",
      "[%] Downloading Image #8 from https://i.ytimg.com/vi/O6vREuJsgxI/maxresdefault.jpg\n",
      "[%] File Downloaded !\n",
      "\n",
      "[%] Downloading Image #9 from https://i.ytimg.com/vi/YUAwpHYEVFE/maxresdefault.jpg\n",
      "[%] File Downloaded !\n",
      "\n",
      "[%] Downloading Image #10 from https://i.ytimg.com/vi/nwI40GAqatw/maxresdefault.jpg\n",
      "[%] File Downloaded !\n",
      "\n"
     ]
    }
   ],
   "source": [
    "from bing_image_downloader import downloader\n",
    "downloader.download(\"pasta\",limit =10,output_dir ='images')"
   ]
  },
  {
   "cell_type": "code",
   "execution_count": 10,
   "metadata": {
    "colab": {
     "base_uri": "https://localhost:8080/",
     "height": 638
    },
    "colab_type": "code",
    "executionInfo": {
     "elapsed": 27916,
     "status": "ok",
     "timestamp": 1600440706935,
     "user": {
      "displayName": "Prajwal Bhat",
      "photoUrl": "https://lh3.googleusercontent.com/a-/AOh14Git8KFiINGdQ1nW0gJq9MYK40HXzju4hhonJ2XTKQ=s64",
      "userId": "14656634530721889759"
     },
     "user_tz": -330
    },
    "id": "l1VHniiT2P8z",
    "outputId": "e4e5235c-4ea7-4e6e-8332-162d150ad301"
   },
   "outputs": [
    {
     "name": "stdout",
     "output_type": "stream",
     "text": [
      "(1125, 1500, 3)\n",
      "(462, 616, 3)\n",
      "(462, 616, 3)\n",
      "(1804, 3200, 3)\n",
      "(720, 1280, 3)\n",
      "(1029, 1200, 3)\n",
      "(720, 1280, 3)\n",
      "(720, 1280, 3)\n",
      "(720, 1280, 3)\n",
      "(720, 1280, 3)\n",
      "(1125, 1500, 3)\n",
      "(720, 1280, 3)\n",
      "(720, 1280, 3)\n",
      "(1035, 1200, 3)\n",
      "(720, 1280, 3)\n",
      "(1462, 2048, 3)\n",
      "(720, 1280, 3)\n",
      "(720, 1280, 3)\n",
      "(256, 448, 3)\n",
      "(720, 1280, 3)\n",
      "(900, 1200, 3)\n",
      "(720, 1280, 3)\n",
      "(360, 480, 3)\n",
      "(256, 448, 3)\n",
      "(720, 1280, 3)\n",
      "(720, 1280, 3)\n",
      "(959, 1200, 3)\n",
      "(720, 1280, 3)\n",
      "(900, 1200, 3)\n",
      "(720, 1280, 3)\n",
      "(360, 480, 3)\n",
      "(720, 1280, 3)\n",
      "(959, 1200, 3)\n",
      "(803, 1200, 3)\n",
      "(1125, 1500, 3)\n",
      "(720, 1280, 3)\n",
      "(720, 1280, 3)\n"
     ]
    }
   ],
   "source": [
    "import os\n",
    "\n",
    "path ='/content/drive/My Drive/internship/images/pizza'\n",
    "\n",
    "for filename in os.listdir(path):\n",
    "    i =cv2.imread(os.path.join(path,filename))\n",
    "    i =cv2.cvtColor(i,cv2.COLOR_BGR2RGB)\n",
    "    print(i.shape)"
   ]
  },
  {
   "cell_type": "code",
   "execution_count": 13,
   "metadata": {
    "colab": {},
    "colab_type": "code",
    "executionInfo": {
     "elapsed": 4753,
     "status": "ok",
     "timestamp": 1600440748536,
     "user": {
      "displayName": "Prajwal Bhat",
      "photoUrl": "https://lh3.googleusercontent.com/a-/AOh14Git8KFiINGdQ1nW0gJq9MYK40HXzju4hhonJ2XTKQ=s64",
      "userId": "14656634530721889759"
     },
     "user_tz": -330
    },
    "id": "NUqml3ER3B1y"
   },
   "outputs": [],
   "source": [
    "from skimage.io import imread\n",
    "from skimage.transform import resize\n",
    "import numpy as np"
   ]
  },
  {
   "cell_type": "code",
   "execution_count": 14,
   "metadata": {
    "colab": {
     "base_uri": "https://localhost:8080/",
     "height": 84
    },
    "colab_type": "code",
    "executionInfo": {
     "elapsed": 53029,
     "status": "ok",
     "timestamp": 1600440805216,
     "user": {
      "displayName": "Prajwal Bhat",
      "photoUrl": "https://lh3.googleusercontent.com/a-/AOh14Git8KFiINGdQ1nW0gJq9MYK40HXzju4hhonJ2XTKQ=s64",
      "userId": "14656634530721889759"
     },
     "user_tz": -330
    },
    "id": "BVtQRAvV3Jtu",
    "outputId": "7baefc7d-220d-4ba1-ce25-87b09e427cef"
   },
   "outputs": [
    {
     "name": "stdout",
     "output_type": "stream",
     "text": [
      "(20, 7500)\n",
      "['pizza' 'pizza' 'pizza' 'pizza' 'pizza' 'pizza' 'pizza' 'pizza' 'pizza'\n",
      " 'pizza' 'pasta' 'pasta' 'pasta' 'pasta' 'pasta' 'pasta' 'pasta' 'pasta'\n",
      " 'pasta' 'pasta']\n"
     ]
    }
   ],
   "source": [
    "target =[]  #list of target(output)\n",
    "flat_data=[] #image in flatten style\n",
    "images = []\n",
    "\n",
    "path = '/content/drive/My Drive/internship/images'\n",
    "\n",
    "for dirpath,dirnames,filenames in os.walk(path):\n",
    "    for filename in filenames:\n",
    "        \n",
    "        category = dirpath.split('/')[-1]\n",
    "        \n",
    "        target.append(category)\n",
    "        img =imread(f'{path}/{category}/{filename}')\n",
    "        img_resize = resize(img,(50,50,3))\n",
    "        flat_data.append(img_resize.flatten())\n",
    "        images.append(img_resize)\n",
    "    \n",
    "        \n",
    "flat_data = np.array(flat_data)\n",
    "target = np.array(target)\n",
    "images = np.array(images)\n",
    "\n",
    "print(flat_data.shape)\n",
    "print(target)"
   ]
  },
  {
   "cell_type": "code",
   "execution_count": 15,
   "metadata": {
    "colab": {},
    "colab_type": "code",
    "executionInfo": {
     "elapsed": 1945,
     "status": "ok",
     "timestamp": 1600440947640,
     "user": {
      "displayName": "Prajwal Bhat",
      "photoUrl": "https://lh3.googleusercontent.com/a-/AOh14Git8KFiINGdQ1nW0gJq9MYK40HXzju4hhonJ2XTKQ=s64",
      "userId": "14656634530721889759"
     },
     "user_tz": -330
    },
    "id": "Li_5MY6m3VMg"
   },
   "outputs": [],
   "source": [
    "import pandas as pd\n",
    "\n",
    "df =pd.DataFrame(flat_data)\n",
    "\n",
    "df['Target']=target"
   ]
  },
  {
   "cell_type": "code",
   "execution_count": 39,
   "metadata": {
    "colab": {
     "base_uri": "https://localhost:8080/",
     "height": 244
    },
    "colab_type": "code",
    "executionInfo": {
     "elapsed": 1868,
     "status": "ok",
     "timestamp": 1600421875650,
     "user": {
      "displayName": "Prajwal Bhat",
      "photoUrl": "https://lh3.googleusercontent.com/a-/AOh14Git8KFiINGdQ1nW0gJq9MYK40HXzju4hhonJ2XTKQ=s64",
      "userId": "14656634530721889759"
     },
     "user_tz": -330
    },
    "id": "fy_pvZPL3xN-",
    "outputId": "66a4af05-5a7d-4d94-eeef-4854688088d3"
   },
   "outputs": [
    {
     "data": {
      "text/html": [
       "<div>\n",
       "<style scoped>\n",
       "    .dataframe tbody tr th:only-of-type {\n",
       "        vertical-align: middle;\n",
       "    }\n",
       "\n",
       "    .dataframe tbody tr th {\n",
       "        vertical-align: top;\n",
       "    }\n",
       "\n",
       "    .dataframe thead th {\n",
       "        text-align: right;\n",
       "    }\n",
       "</style>\n",
       "<table border=\"1\" class=\"dataframe\">\n",
       "  <thead>\n",
       "    <tr style=\"text-align: right;\">\n",
       "      <th></th>\n",
       "      <th>0</th>\n",
       "      <th>1</th>\n",
       "      <th>2</th>\n",
       "      <th>3</th>\n",
       "      <th>4</th>\n",
       "      <th>5</th>\n",
       "      <th>6</th>\n",
       "      <th>7</th>\n",
       "      <th>8</th>\n",
       "      <th>9</th>\n",
       "      <th>10</th>\n",
       "      <th>11</th>\n",
       "      <th>12</th>\n",
       "      <th>13</th>\n",
       "      <th>14</th>\n",
       "      <th>15</th>\n",
       "      <th>16</th>\n",
       "      <th>17</th>\n",
       "      <th>18</th>\n",
       "      <th>19</th>\n",
       "      <th>20</th>\n",
       "      <th>21</th>\n",
       "      <th>22</th>\n",
       "      <th>23</th>\n",
       "      <th>24</th>\n",
       "      <th>25</th>\n",
       "      <th>26</th>\n",
       "      <th>27</th>\n",
       "      <th>28</th>\n",
       "      <th>29</th>\n",
       "      <th>30</th>\n",
       "      <th>31</th>\n",
       "      <th>32</th>\n",
       "      <th>33</th>\n",
       "      <th>34</th>\n",
       "      <th>35</th>\n",
       "      <th>36</th>\n",
       "      <th>37</th>\n",
       "      <th>38</th>\n",
       "      <th>39</th>\n",
       "      <th>...</th>\n",
       "      <th>7461</th>\n",
       "      <th>7462</th>\n",
       "      <th>7463</th>\n",
       "      <th>7464</th>\n",
       "      <th>7465</th>\n",
       "      <th>7466</th>\n",
       "      <th>7467</th>\n",
       "      <th>7468</th>\n",
       "      <th>7469</th>\n",
       "      <th>7470</th>\n",
       "      <th>7471</th>\n",
       "      <th>7472</th>\n",
       "      <th>7473</th>\n",
       "      <th>7474</th>\n",
       "      <th>7475</th>\n",
       "      <th>7476</th>\n",
       "      <th>7477</th>\n",
       "      <th>7478</th>\n",
       "      <th>7479</th>\n",
       "      <th>7480</th>\n",
       "      <th>7481</th>\n",
       "      <th>7482</th>\n",
       "      <th>7483</th>\n",
       "      <th>7484</th>\n",
       "      <th>7485</th>\n",
       "      <th>7486</th>\n",
       "      <th>7487</th>\n",
       "      <th>7488</th>\n",
       "      <th>7489</th>\n",
       "      <th>7490</th>\n",
       "      <th>7491</th>\n",
       "      <th>7492</th>\n",
       "      <th>7493</th>\n",
       "      <th>7494</th>\n",
       "      <th>7495</th>\n",
       "      <th>7496</th>\n",
       "      <th>7497</th>\n",
       "      <th>7498</th>\n",
       "      <th>7499</th>\n",
       "      <th>Target</th>\n",
       "    </tr>\n",
       "  </thead>\n",
       "  <tbody>\n",
       "    <tr>\n",
       "      <th>0</th>\n",
       "      <td>0.000000</td>\n",
       "      <td>0.000000</td>\n",
       "      <td>0.000000</td>\n",
       "      <td>0.000000</td>\n",
       "      <td>0.000000</td>\n",
       "      <td>0.000000</td>\n",
       "      <td>0.000000</td>\n",
       "      <td>0.000000</td>\n",
       "      <td>0.000000</td>\n",
       "      <td>0.000000</td>\n",
       "      <td>0.000000</td>\n",
       "      <td>0.000000</td>\n",
       "      <td>0.000000</td>\n",
       "      <td>0.000000</td>\n",
       "      <td>0.000000</td>\n",
       "      <td>0.000000</td>\n",
       "      <td>0.000000</td>\n",
       "      <td>0.000000</td>\n",
       "      <td>0.000000</td>\n",
       "      <td>0.000000</td>\n",
       "      <td>0.000000</td>\n",
       "      <td>0.000000</td>\n",
       "      <td>0.000000</td>\n",
       "      <td>0.000000</td>\n",
       "      <td>0.000000</td>\n",
       "      <td>0.000000</td>\n",
       "      <td>0.000000</td>\n",
       "      <td>0.000000</td>\n",
       "      <td>0.000000</td>\n",
       "      <td>0.000000</td>\n",
       "      <td>0.000000</td>\n",
       "      <td>0.000000</td>\n",
       "      <td>0.000000</td>\n",
       "      <td>0.000000</td>\n",
       "      <td>0.000000</td>\n",
       "      <td>0.000000</td>\n",
       "      <td>0.000000</td>\n",
       "      <td>0.000000</td>\n",
       "      <td>0.000000</td>\n",
       "      <td>0.000000</td>\n",
       "      <td>...</td>\n",
       "      <td>0.101961</td>\n",
       "      <td>0.094275</td>\n",
       "      <td>0.125490</td>\n",
       "      <td>0.082353</td>\n",
       "      <td>0.082353</td>\n",
       "      <td>0.117647</td>\n",
       "      <td>0.150902</td>\n",
       "      <td>0.204549</td>\n",
       "      <td>0.278118</td>\n",
       "      <td>0.298510</td>\n",
       "      <td>0.428078</td>\n",
       "      <td>0.561569</td>\n",
       "      <td>0.251677</td>\n",
       "      <td>0.369412</td>\n",
       "      <td>0.504558</td>\n",
       "      <td>0.168784</td>\n",
       "      <td>0.262902</td>\n",
       "      <td>0.396235</td>\n",
       "      <td>0.271975</td>\n",
       "      <td>0.401255</td>\n",
       "      <td>0.554955</td>\n",
       "      <td>0.394039</td>\n",
       "      <td>0.554980</td>\n",
       "      <td>0.719686</td>\n",
       "      <td>0.450962</td>\n",
       "      <td>0.622902</td>\n",
       "      <td>0.784157</td>\n",
       "      <td>0.495021</td>\n",
       "      <td>0.662626</td>\n",
       "      <td>0.823373</td>\n",
       "      <td>0.515984</td>\n",
       "      <td>0.682196</td>\n",
       "      <td>0.842980</td>\n",
       "      <td>0.517647</td>\n",
       "      <td>0.682353</td>\n",
       "      <td>0.842980</td>\n",
       "      <td>0.517490</td>\n",
       "      <td>0.678431</td>\n",
       "      <td>0.842980</td>\n",
       "      <td>cat</td>\n",
       "    </tr>\n",
       "    <tr>\n",
       "      <th>1</th>\n",
       "      <td>0.117647</td>\n",
       "      <td>0.992157</td>\n",
       "      <td>0.980392</td>\n",
       "      <td>0.113725</td>\n",
       "      <td>0.988235</td>\n",
       "      <td>0.968627</td>\n",
       "      <td>0.109804</td>\n",
       "      <td>0.888824</td>\n",
       "      <td>0.819608</td>\n",
       "      <td>0.117647</td>\n",
       "      <td>0.855020</td>\n",
       "      <td>0.752941</td>\n",
       "      <td>0.113725</td>\n",
       "      <td>0.839569</td>\n",
       "      <td>0.702314</td>\n",
       "      <td>0.109804</td>\n",
       "      <td>0.775294</td>\n",
       "      <td>0.614510</td>\n",
       "      <td>0.109804</td>\n",
       "      <td>0.709922</td>\n",
       "      <td>0.534510</td>\n",
       "      <td>0.101961</td>\n",
       "      <td>0.576667</td>\n",
       "      <td>0.408039</td>\n",
       "      <td>0.082353</td>\n",
       "      <td>0.409294</td>\n",
       "      <td>0.247059</td>\n",
       "      <td>0.094941</td>\n",
       "      <td>0.541176</td>\n",
       "      <td>0.376471</td>\n",
       "      <td>0.117647</td>\n",
       "      <td>0.742314</td>\n",
       "      <td>0.631765</td>\n",
       "      <td>0.117647</td>\n",
       "      <td>0.728235</td>\n",
       "      <td>0.604314</td>\n",
       "      <td>0.105882</td>\n",
       "      <td>0.605882</td>\n",
       "      <td>0.449020</td>\n",
       "      <td>0.101961</td>\n",
       "      <td>...</td>\n",
       "      <td>0.213333</td>\n",
       "      <td>0.895882</td>\n",
       "      <td>0.879608</td>\n",
       "      <td>0.528235</td>\n",
       "      <td>0.697647</td>\n",
       "      <td>0.698824</td>\n",
       "      <td>0.619608</td>\n",
       "      <td>0.635294</td>\n",
       "      <td>0.647059</td>\n",
       "      <td>0.588235</td>\n",
       "      <td>0.588235</td>\n",
       "      <td>0.596078</td>\n",
       "      <td>0.588235</td>\n",
       "      <td>0.588235</td>\n",
       "      <td>0.588235</td>\n",
       "      <td>0.588235</td>\n",
       "      <td>0.588235</td>\n",
       "      <td>0.587059</td>\n",
       "      <td>0.520000</td>\n",
       "      <td>0.523922</td>\n",
       "      <td>0.509294</td>\n",
       "      <td>0.373725</td>\n",
       "      <td>0.376471</td>\n",
       "      <td>0.368627</td>\n",
       "      <td>0.337255</td>\n",
       "      <td>0.354941</td>\n",
       "      <td>0.354941</td>\n",
       "      <td>0.271373</td>\n",
       "      <td>0.661961</td>\n",
       "      <td>0.661961</td>\n",
       "      <td>0.125490</td>\n",
       "      <td>0.978431</td>\n",
       "      <td>0.962745</td>\n",
       "      <td>0.113725</td>\n",
       "      <td>0.992157</td>\n",
       "      <td>0.980392</td>\n",
       "      <td>0.113725</td>\n",
       "      <td>0.996078</td>\n",
       "      <td>0.980392</td>\n",
       "      <td>cat</td>\n",
       "    </tr>\n",
       "    <tr>\n",
       "      <th>2</th>\n",
       "      <td>0.658824</td>\n",
       "      <td>0.698039</td>\n",
       "      <td>0.762549</td>\n",
       "      <td>0.662745</td>\n",
       "      <td>0.705882</td>\n",
       "      <td>0.776471</td>\n",
       "      <td>0.662745</td>\n",
       "      <td>0.712343</td>\n",
       "      <td>0.785294</td>\n",
       "      <td>0.658824</td>\n",
       "      <td>0.717647</td>\n",
       "      <td>0.796078</td>\n",
       "      <td>0.639020</td>\n",
       "      <td>0.686078</td>\n",
       "      <td>0.756667</td>\n",
       "      <td>0.596078</td>\n",
       "      <td>0.623529</td>\n",
       "      <td>0.678431</td>\n",
       "      <td>0.592157</td>\n",
       "      <td>0.619296</td>\n",
       "      <td>0.676076</td>\n",
       "      <td>0.635294</td>\n",
       "      <td>0.675892</td>\n",
       "      <td>0.740657</td>\n",
       "      <td>0.674510</td>\n",
       "      <td>0.725490</td>\n",
       "      <td>0.792157</td>\n",
       "      <td>0.682353</td>\n",
       "      <td>0.729412</td>\n",
       "      <td>0.800000</td>\n",
       "      <td>0.690196</td>\n",
       "      <td>0.733333</td>\n",
       "      <td>0.803922</td>\n",
       "      <td>0.694118</td>\n",
       "      <td>0.737255</td>\n",
       "      <td>0.807843</td>\n",
       "      <td>0.698039</td>\n",
       "      <td>0.741176</td>\n",
       "      <td>0.807843</td>\n",
       "      <td>0.698039</td>\n",
       "      <td>...</td>\n",
       "      <td>0.968627</td>\n",
       "      <td>0.963324</td>\n",
       "      <td>0.952941</td>\n",
       "      <td>0.958941</td>\n",
       "      <td>0.949020</td>\n",
       "      <td>0.937255</td>\n",
       "      <td>0.960784</td>\n",
       "      <td>0.949020</td>\n",
       "      <td>0.937255</td>\n",
       "      <td>0.951176</td>\n",
       "      <td>0.939412</td>\n",
       "      <td>0.924661</td>\n",
       "      <td>0.909804</td>\n",
       "      <td>0.882353</td>\n",
       "      <td>0.854902</td>\n",
       "      <td>0.941176</td>\n",
       "      <td>0.924108</td>\n",
       "      <td>0.905882</td>\n",
       "      <td>0.952941</td>\n",
       "      <td>0.941176</td>\n",
       "      <td>0.925490</td>\n",
       "      <td>0.929412</td>\n",
       "      <td>0.909712</td>\n",
       "      <td>0.886182</td>\n",
       "      <td>0.921569</td>\n",
       "      <td>0.898039</td>\n",
       "      <td>0.874510</td>\n",
       "      <td>0.925490</td>\n",
       "      <td>0.905882</td>\n",
       "      <td>0.886275</td>\n",
       "      <td>0.949020</td>\n",
       "      <td>0.938814</td>\n",
       "      <td>0.921569</td>\n",
       "      <td>0.941176</td>\n",
       "      <td>0.925490</td>\n",
       "      <td>0.905882</td>\n",
       "      <td>0.941176</td>\n",
       "      <td>0.925490</td>\n",
       "      <td>0.905882</td>\n",
       "      <td>cat</td>\n",
       "    </tr>\n",
       "    <tr>\n",
       "      <th>3</th>\n",
       "      <td>0.623529</td>\n",
       "      <td>0.592157</td>\n",
       "      <td>0.447059</td>\n",
       "      <td>0.635294</td>\n",
       "      <td>0.603922</td>\n",
       "      <td>0.453451</td>\n",
       "      <td>0.643137</td>\n",
       "      <td>0.611765</td>\n",
       "      <td>0.454902</td>\n",
       "      <td>0.650980</td>\n",
       "      <td>0.619608</td>\n",
       "      <td>0.454902</td>\n",
       "      <td>0.658824</td>\n",
       "      <td>0.626275</td>\n",
       "      <td>0.456824</td>\n",
       "      <td>0.674510</td>\n",
       "      <td>0.639216</td>\n",
       "      <td>0.470588</td>\n",
       "      <td>0.684824</td>\n",
       "      <td>0.647059</td>\n",
       "      <td>0.474510</td>\n",
       "      <td>0.694118</td>\n",
       "      <td>0.662745</td>\n",
       "      <td>0.486275</td>\n",
       "      <td>0.698039</td>\n",
       "      <td>0.662745</td>\n",
       "      <td>0.494118</td>\n",
       "      <td>0.694118</td>\n",
       "      <td>0.650980</td>\n",
       "      <td>0.474510</td>\n",
       "      <td>0.713725</td>\n",
       "      <td>0.666667</td>\n",
       "      <td>0.490196</td>\n",
       "      <td>0.733216</td>\n",
       "      <td>0.698039</td>\n",
       "      <td>0.521569</td>\n",
       "      <td>0.745098</td>\n",
       "      <td>0.713725</td>\n",
       "      <td>0.533333</td>\n",
       "      <td>0.752941</td>\n",
       "      <td>...</td>\n",
       "      <td>0.737255</td>\n",
       "      <td>0.752941</td>\n",
       "      <td>0.713725</td>\n",
       "      <td>0.729412</td>\n",
       "      <td>0.741176</td>\n",
       "      <td>0.705882</td>\n",
       "      <td>0.725490</td>\n",
       "      <td>0.737255</td>\n",
       "      <td>0.698039</td>\n",
       "      <td>0.717647</td>\n",
       "      <td>0.729412</td>\n",
       "      <td>0.693294</td>\n",
       "      <td>0.698157</td>\n",
       "      <td>0.709922</td>\n",
       "      <td>0.674510</td>\n",
       "      <td>0.678431</td>\n",
       "      <td>0.690196</td>\n",
       "      <td>0.650980</td>\n",
       "      <td>0.662745</td>\n",
       "      <td>0.674510</td>\n",
       "      <td>0.635294</td>\n",
       "      <td>0.647059</td>\n",
       "      <td>0.659176</td>\n",
       "      <td>0.623529</td>\n",
       "      <td>0.626275</td>\n",
       "      <td>0.638392</td>\n",
       "      <td>0.595255</td>\n",
       "      <td>0.605373</td>\n",
       "      <td>0.617137</td>\n",
       "      <td>0.568627</td>\n",
       "      <td>0.584902</td>\n",
       "      <td>0.593333</td>\n",
       "      <td>0.539804</td>\n",
       "      <td>0.564431</td>\n",
       "      <td>0.565765</td>\n",
       "      <td>0.507059</td>\n",
       "      <td>0.541176</td>\n",
       "      <td>0.541176</td>\n",
       "      <td>0.475686</td>\n",
       "      <td>cat</td>\n",
       "    </tr>\n",
       "    <tr>\n",
       "      <th>4</th>\n",
       "      <td>0.434863</td>\n",
       "      <td>0.436510</td>\n",
       "      <td>0.412980</td>\n",
       "      <td>0.889529</td>\n",
       "      <td>0.893725</td>\n",
       "      <td>0.842745</td>\n",
       "      <td>0.917647</td>\n",
       "      <td>0.921569</td>\n",
       "      <td>0.866667</td>\n",
       "      <td>0.921569</td>\n",
       "      <td>0.925490</td>\n",
       "      <td>0.874510</td>\n",
       "      <td>0.926667</td>\n",
       "      <td>0.929412</td>\n",
       "      <td>0.882353</td>\n",
       "      <td>0.933333</td>\n",
       "      <td>0.934510</td>\n",
       "      <td>0.890196</td>\n",
       "      <td>0.934510</td>\n",
       "      <td>0.941176</td>\n",
       "      <td>0.898039</td>\n",
       "      <td>0.938431</td>\n",
       "      <td>0.945098</td>\n",
       "      <td>0.901961</td>\n",
       "      <td>0.941176</td>\n",
       "      <td>0.946275</td>\n",
       "      <td>0.909922</td>\n",
       "      <td>0.945098</td>\n",
       "      <td>0.949020</td>\n",
       "      <td>0.924667</td>\n",
       "      <td>0.949020</td>\n",
       "      <td>0.954941</td>\n",
       "      <td>0.929412</td>\n",
       "      <td>0.949020</td>\n",
       "      <td>0.960784</td>\n",
       "      <td>0.933333</td>\n",
       "      <td>0.952941</td>\n",
       "      <td>0.961961</td>\n",
       "      <td>0.933922</td>\n",
       "      <td>0.954118</td>\n",
       "      <td>...</td>\n",
       "      <td>0.481569</td>\n",
       "      <td>0.387451</td>\n",
       "      <td>0.264510</td>\n",
       "      <td>0.470196</td>\n",
       "      <td>0.387843</td>\n",
       "      <td>0.271373</td>\n",
       "      <td>0.373373</td>\n",
       "      <td>0.299216</td>\n",
       "      <td>0.177647</td>\n",
       "      <td>0.380745</td>\n",
       "      <td>0.313725</td>\n",
       "      <td>0.205098</td>\n",
       "      <td>0.583529</td>\n",
       "      <td>0.509020</td>\n",
       "      <td>0.410980</td>\n",
       "      <td>0.732745</td>\n",
       "      <td>0.666078</td>\n",
       "      <td>0.560784</td>\n",
       "      <td>0.835569</td>\n",
       "      <td>0.816078</td>\n",
       "      <td>0.749412</td>\n",
       "      <td>0.866667</td>\n",
       "      <td>0.858824</td>\n",
       "      <td>0.811765</td>\n",
       "      <td>0.874510</td>\n",
       "      <td>0.866667</td>\n",
       "      <td>0.819608</td>\n",
       "      <td>0.874510</td>\n",
       "      <td>0.870588</td>\n",
       "      <td>0.819608</td>\n",
       "      <td>0.878431</td>\n",
       "      <td>0.878431</td>\n",
       "      <td>0.827451</td>\n",
       "      <td>0.858431</td>\n",
       "      <td>0.858157</td>\n",
       "      <td>0.807451</td>\n",
       "      <td>0.418824</td>\n",
       "      <td>0.415255</td>\n",
       "      <td>0.395294</td>\n",
       "      <td>cat</td>\n",
       "    </tr>\n",
       "  </tbody>\n",
       "</table>\n",
       "<p>5 rows × 7501 columns</p>\n",
       "</div>"
      ],
      "text/plain": [
       "          0         1         2         3  ...      7497      7498      7499  Target\n",
       "0  0.000000  0.000000  0.000000  0.000000  ...  0.517490  0.678431  0.842980     cat\n",
       "1  0.117647  0.992157  0.980392  0.113725  ...  0.113725  0.996078  0.980392     cat\n",
       "2  0.658824  0.698039  0.762549  0.662745  ...  0.941176  0.925490  0.905882     cat\n",
       "3  0.623529  0.592157  0.447059  0.635294  ...  0.541176  0.541176  0.475686     cat\n",
       "4  0.434863  0.436510  0.412980  0.889529  ...  0.418824  0.415255  0.395294     cat\n",
       "\n",
       "[5 rows x 7501 columns]"
      ]
     },
     "execution_count": 39,
     "metadata": {
      "tags": []
     },
     "output_type": "execute_result"
    }
   ],
   "source": [
    "df.head()"
   ]
  },
  {
   "cell_type": "code",
   "execution_count": 18,
   "metadata": {
    "colab": {
     "base_uri": "https://localhost:8080/",
     "height": 134
    },
    "colab_type": "code",
    "executionInfo": {
     "elapsed": 1684,
     "status": "ok",
     "timestamp": 1600440979496,
     "user": {
      "displayName": "Prajwal Bhat",
      "photoUrl": "https://lh3.googleusercontent.com/a-/AOh14Git8KFiINGdQ1nW0gJq9MYK40HXzju4hhonJ2XTKQ=s64",
      "userId": "14656634530721889759"
     },
     "user_tz": -330
    },
    "id": "3FOYQpHXLoU1",
    "outputId": "0cc9c11f-9bf9-40e8-e4ee-fa297c1949a9"
   },
   "outputs": [
    {
     "name": "stdout",
     "output_type": "stream",
     "text": [
      "[[0.97254902 0.67647059 0.66862745 ... 0.73333333 0.30588235 0.26666667]\n",
      " [0.8745098  0.83529412 0.82352941 ... 0.45490196 0.25098039 0.1372549 ]\n",
      " [0.32941176 0.16470588 0.06666667 ... 0.86666667 0.62745098 0.36078431]\n",
      " ...\n",
      " [0.67172549 0.59760784 0.32270588 ... 0.94901961 0.96078431 0.35878431]\n",
      " [0.89803922 0.94509804 0.96470588 ... 0.84623529 0.89721569 0.91372549]\n",
      " [0.86666667 0.87333333 0.89294118 ... 0.54901961 0.50980392 0.52941176]]\n"
     ]
    }
   ],
   "source": [
    "x=flat_data\n",
    "y=df.Target"
   ]
  },
  {
   "cell_type": "code",
   "execution_count": 21,
   "metadata": {
    "colab": {
     "base_uri": "https://localhost:8080/",
     "height": 34
    },
    "colab_type": "code",
    "executionInfo": {
     "elapsed": 1987,
     "status": "ok",
     "timestamp": 1600441047023,
     "user": {
      "displayName": "Prajwal Bhat",
      "photoUrl": "https://lh3.googleusercontent.com/a-/AOh14Git8KFiINGdQ1nW0gJq9MYK40HXzju4hhonJ2XTKQ=s64",
      "userId": "14656634530721889759"
     },
     "user_tz": -330
    },
    "id": "_gS9OyX030pv",
    "outputId": "73f995d3-8af7-4965-de0c-33994bb8316d"
   },
   "outputs": [
    {
     "data": {
      "text/plain": [
       "(5, 7500)"
      ]
     },
     "execution_count": 21,
     "metadata": {
      "tags": []
     },
     "output_type": "execute_result"
    }
   ],
   "source": [
    "from sklearn.model_selection import train_test_split\n",
    "x_train,x_test,y_train,y_test= train_test_split(x,y)\n",
    "\n",
    "x_test.shape"
   ]
  },
  {
   "cell_type": "code",
   "execution_count": 22,
   "metadata": {
    "colab": {
     "base_uri": "https://localhost:8080/",
     "height": 84
    },
    "colab_type": "code",
    "executionInfo": {
     "elapsed": 1975,
     "status": "ok",
     "timestamp": 1600441097621,
     "user": {
      "displayName": "Prajwal Bhat",
      "photoUrl": "https://lh3.googleusercontent.com/a-/AOh14Git8KFiINGdQ1nW0gJq9MYK40HXzju4hhonJ2XTKQ=s64",
      "userId": "14656634530721889759"
     },
     "user_tz": -330
    },
    "id": "4lkNfvU_Mvvz",
    "outputId": "0dd0014d-9964-48ba-e341-f9b4bf504539"
   },
   "outputs": [
    {
     "data": {
      "text/plain": [
       "SVC(C=1.0, break_ties=False, cache_size=200, class_weight=None, coef0=0.0,\n",
       "    decision_function_shape='ovr', degree=3, gamma='scale', kernel='rbf',\n",
       "    max_iter=-1, probability=False, random_state=None, shrinking=True,\n",
       "    tol=0.001, verbose=False)"
      ]
     },
     "execution_count": 22,
     "metadata": {
      "tags": []
     },
     "output_type": "execute_result"
    }
   ],
   "source": [
    "from sklearn.svm import SVC\n",
    "model=SVC()\n",
    "model.fit(x_train,y_train)"
   ]
  },
  {
   "cell_type": "code",
   "execution_count": 23,
   "metadata": {
    "colab": {
     "base_uri": "https://localhost:8080/",
     "height": 34
    },
    "colab_type": "code",
    "executionInfo": {
     "elapsed": 1518,
     "status": "ok",
     "timestamp": 1600441102060,
     "user": {
      "displayName": "Prajwal Bhat",
      "photoUrl": "https://lh3.googleusercontent.com/a-/AOh14Git8KFiINGdQ1nW0gJq9MYK40HXzju4hhonJ2XTKQ=s64",
      "userId": "14656634530721889759"
     },
     "user_tz": -330
    },
    "id": "ngPCAKPtM1_W",
    "outputId": "65aaf3dc-e23e-48b7-d6c4-bb95f01b72bf"
   },
   "outputs": [
    {
     "data": {
      "text/plain": [
       "array(['pasta', 'pizza', 'pasta', 'pizza', 'pizza'], dtype=object)"
      ]
     },
     "execution_count": 23,
     "metadata": {
      "tags": []
     },
     "output_type": "execute_result"
    }
   ],
   "source": [
    "y_pred=model.predict(x_test)\n",
    "y_pred"
   ]
  },
  {
   "cell_type": "code",
   "execution_count": 26,
   "metadata": {
    "colab": {
     "base_uri": "https://localhost:8080/",
     "height": 34
    },
    "colab_type": "code",
    "executionInfo": {
     "elapsed": 1624,
     "status": "ok",
     "timestamp": 1600441206050,
     "user": {
      "displayName": "Prajwal Bhat",
      "photoUrl": "https://lh3.googleusercontent.com/a-/AOh14Git8KFiINGdQ1nW0gJq9MYK40HXzju4hhonJ2XTKQ=s64",
      "userId": "14656634530721889759"
     },
     "user_tz": -330
    },
    "id": "WkfL8tnoM5Gh",
    "outputId": "ccfd1a60-8ec6-48ee-d793-ba2f46a42038"
   },
   "outputs": [
    {
     "data": {
      "text/plain": [
       "0.8"
      ]
     },
     "execution_count": 26,
     "metadata": {
      "tags": []
     },
     "output_type": "execute_result"
    }
   ],
   "source": [
    "from sklearn.metrics import confusion_matrix,accuracy_score\n",
    "accuracy_score(y_pred,y_test)"
   ]
  },
  {
   "cell_type": "code",
   "execution_count": 27,
   "metadata": {
    "colab": {
     "base_uri": "https://localhost:8080/",
     "height": 50
    },
    "colab_type": "code",
    "executionInfo": {
     "elapsed": 1434,
     "status": "ok",
     "timestamp": 1600441220487,
     "user": {
      "displayName": "Prajwal Bhat",
      "photoUrl": "https://lh3.googleusercontent.com/a-/AOh14Git8KFiINGdQ1nW0gJq9MYK40HXzju4hhonJ2XTKQ=s64",
      "userId": "14656634530721889759"
     },
     "user_tz": -330
    },
    "id": "XDtnoRLKur5F",
    "outputId": "f18465b4-b017-45f4-eeb9-e2c4f7180753"
   },
   "outputs": [
    {
     "data": {
      "text/plain": [
       "array([[2, 0],\n",
       "       [1, 2]])"
      ]
     },
     "execution_count": 27,
     "metadata": {
      "tags": []
     },
     "output_type": "execute_result"
    }
   ],
   "source": [
    "confusion_matrix(y_pred,y_test)"
   ]
  },
  {
   "cell_type": "code",
   "execution_count": 31,
   "metadata": {
    "colab": {
     "base_uri": "https://localhost:8080/",
     "height": 339
    },
    "colab_type": "code",
    "executionInfo": {
     "elapsed": 320757,
     "status": "ok",
     "timestamp": 1600441893998,
     "user": {
      "displayName": "Prajwal Bhat",
      "photoUrl": "https://lh3.googleusercontent.com/a-/AOh14Git8KFiINGdQ1nW0gJq9MYK40HXzju4hhonJ2XTKQ=s64",
      "userId": "14656634530721889759"
     },
     "user_tz": -330
    },
    "id": "ZpRrV-6Zuvd5",
    "outputId": "f6bbb9b4-b7d0-487f-ea9d-ed8603425326"
   },
   "outputs": [
    {
     "name": "stdout",
     "output_type": "stream",
     "text": [
      "enter png or jpg pic link of pizza or pasta\n",
      "https://i.ytimg.com/vi/CxZM0PM77Us/maxresdefault.jpg\n",
      "['pizza']\n",
      "try another pic press 1\n",
      " else enter 0\n",
      "1\n",
      "enter png or jpg pic link of pizza or pasta\n",
      "https://i.ytimg.com/vi/nxNFmHXnY9U/maxresdefault.jpg\n",
      "['pasta']\n",
      "try another pic press 1\n",
      " else enter 0\n",
      "1\n",
      "enter png or jpg pic link of pizza or pasta\n",
      "https://images.squarespace-cdn.com/content/v1/58a1ba5503596e1e0cb09ac3/1583970373741-T0GP2ASKQZD959OYJLOB/ke17ZwdGBToddI8pDm48kI7vetX2AP4budJ95k7bg097gQa3H78H3Y0txjaiv_0fDoOvxcdMmMKkDsyUqMSsMWxHk725yiiHCCLfrh8O1z4YTzHvnKhyp6Da-NYroOW3ZGjoBKy3azqku80C789l0hveExjbswnAj1UrRPScjfBIpQO5fPukEci7LO2o66YNVO9wLJP8G-zciRdjexOJ4w/pizza2.jpg\n",
      "['pizza']\n",
      "try another pic press 1\n",
      " else enter 0\n",
      "0\n"
     ]
    }
   ],
   "source": [
    "\n",
    "a=1\n",
    "while a ==1:\n",
    "  print(\"enter png or jpg pic link of pizza or pasta\")\n",
    "  path=input()\n",
    "  img =imread(path)\n",
    "\n",
    "  test_flat_data=[]\n",
    "  imgs=[]\n",
    "  img_resize = resize(img,(50,50,3))\n",
    "  test_flat_data.append(img_resize.flatten())\n",
    "  imgs.append(img_resize)\n",
    "\n",
    "  output=model.predict(test_flat_data)\n",
    "  print(output)\n",
    "  print(\"try another pic press 1\\n else enter 0\")\n",
    "  a=int(input())"
   ]
  },
  {
   "cell_type": "code",
   "execution_count": null,
   "metadata": {
    "colab": {},
    "colab_type": "code",
    "id": "L89c8airu_oo"
   },
   "outputs": [],
   "source": []
  }
 ],
 "metadata": {
  "colab": {
   "authorship_tag": "ABX9TyOF4nxMCXCl3weOcoIVF6Ap",
   "collapsed_sections": [],
   "mount_file_id": "1OX1RaDX6aVI5WLtIhHRHAFH8hSkBpgrY",
   "name": "miniproject.ipynb",
   "provenance": []
  },
  "kernelspec": {
   "display_name": "Python 3",
   "language": "python",
   "name": "python3"
  },
  "language_info": {
   "codemirror_mode": {
    "name": "ipython",
    "version": 3
   },
   "file_extension": ".py",
   "mimetype": "text/x-python",
   "name": "python",
   "nbconvert_exporter": "python",
   "pygments_lexer": "ipython3",
   "version": "3.8.3"
  }
 },
 "nbformat": 4,
 "nbformat_minor": 1
}
